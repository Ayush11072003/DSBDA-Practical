{
  "cells": [
    {
      "cell_type": "code",
      "execution_count": 1,
      "metadata": {
        "id": "kBO1_sDSuT22"
      },
      "outputs": [
        {
          "data": {
            "text/html": [
              "<div>\n",
              "<style scoped>\n",
              "    .dataframe tbody tr th:only-of-type {\n",
              "        vertical-align: middle;\n",
              "    }\n",
              "\n",
              "    .dataframe tbody tr th {\n",
              "        vertical-align: top;\n",
              "    }\n",
              "\n",
              "    .dataframe thead th {\n",
              "        text-align: right;\n",
              "    }\n",
              "</style>\n",
              "<table border=\"1\" class=\"dataframe\">\n",
              "  <thead>\n",
              "    <tr style=\"text-align: right;\">\n",
              "      <th></th>\n",
              "      <th>gender</th>\n",
              "      <th>math score</th>\n",
              "      <th>reading score</th>\n",
              "      <th>writing score</th>\n",
              "      <th>Placement Score</th>\n",
              "      <th>placement offer count</th>\n",
              "      <th>Region</th>\n",
              "    </tr>\n",
              "  </thead>\n",
              "  <tbody>\n",
              "    <tr>\n",
              "      <th>0</th>\n",
              "      <td>female</td>\n",
              "      <td>72</td>\n",
              "      <td>72</td>\n",
              "      <td>74.0</td>\n",
              "      <td>78.0</td>\n",
              "      <td>1</td>\n",
              "      <td>Pune</td>\n",
              "    </tr>\n",
              "    <tr>\n",
              "      <th>1</th>\n",
              "      <td>female</td>\n",
              "      <td>69</td>\n",
              "      <td>90</td>\n",
              "      <td>88.0</td>\n",
              "      <td>NaN</td>\n",
              "      <td>2</td>\n",
              "      <td>na</td>\n",
              "    </tr>\n",
              "    <tr>\n",
              "      <th>2</th>\n",
              "      <td>female</td>\n",
              "      <td>90</td>\n",
              "      <td>95</td>\n",
              "      <td>93.0</td>\n",
              "      <td>74.0</td>\n",
              "      <td>2</td>\n",
              "      <td>Nashik</td>\n",
              "    </tr>\n",
              "    <tr>\n",
              "      <th>3</th>\n",
              "      <td>male</td>\n",
              "      <td>47</td>\n",
              "      <td>57</td>\n",
              "      <td>NaN</td>\n",
              "      <td>78.0</td>\n",
              "      <td>1</td>\n",
              "      <td>Na</td>\n",
              "    </tr>\n",
              "    <tr>\n",
              "      <th>4</th>\n",
              "      <td>male</td>\n",
              "      <td>na</td>\n",
              "      <td>78</td>\n",
              "      <td>75.0</td>\n",
              "      <td>81.0</td>\n",
              "      <td>3</td>\n",
              "      <td>Pune</td>\n",
              "    </tr>\n",
              "    <tr>\n",
              "      <th>5</th>\n",
              "      <td>female</td>\n",
              "      <td>71</td>\n",
              "      <td>Na</td>\n",
              "      <td>78.0</td>\n",
              "      <td>70.0</td>\n",
              "      <td>4</td>\n",
              "      <td>na</td>\n",
              "    </tr>\n",
              "    <tr>\n",
              "      <th>6</th>\n",
              "      <td>male</td>\n",
              "      <td>12</td>\n",
              "      <td>44</td>\n",
              "      <td>52.0</td>\n",
              "      <td>12.0</td>\n",
              "      <td>2</td>\n",
              "      <td>Nashik</td>\n",
              "    </tr>\n",
              "    <tr>\n",
              "      <th>7</th>\n",
              "      <td>male</td>\n",
              "      <td>NaN</td>\n",
              "      <td>65</td>\n",
              "      <td>67.0</td>\n",
              "      <td>49.0</td>\n",
              "      <td>1</td>\n",
              "      <td>Pune</td>\n",
              "    </tr>\n",
              "    <tr>\n",
              "      <th>8</th>\n",
              "      <td>male</td>\n",
              "      <td>5</td>\n",
              "      <td>77</td>\n",
              "      <td>89.0</td>\n",
              "      <td>55.0</td>\n",
              "      <td>0</td>\n",
              "      <td>NaN</td>\n",
              "    </tr>\n",
              "  </tbody>\n",
              "</table>\n",
              "</div>"
            ],
            "text/plain": [
              "   gender math score reading score  writing score  Placement Score  \\\n",
              "0  female         72            72           74.0             78.0   \n",
              "1  female         69            90           88.0              NaN   \n",
              "2  female         90            95           93.0             74.0   \n",
              "3    male         47            57            NaN             78.0   \n",
              "4    male         na            78           75.0             81.0   \n",
              "5  female         71            Na           78.0             70.0   \n",
              "6    male         12            44           52.0             12.0   \n",
              "7    male        NaN            65           67.0             49.0   \n",
              "8    male          5            77           89.0             55.0   \n",
              "\n",
              "   placement offer count  Region  \n",
              "0                      1    Pune  \n",
              "1                      2      na  \n",
              "2                      2  Nashik  \n",
              "3                      1      Na  \n",
              "4                      3    Pune  \n",
              "5                      4      na  \n",
              "6                      2  Nashik  \n",
              "7                      1    Pune  \n",
              "8                      0     NaN  "
            ]
          },
          "execution_count": 1,
          "metadata": {},
          "output_type": "execute_result"
        }
      ],
      "source": [
        "import pandas as pd\n",
        "import numpy as np\n",
        "from sklearn.preprocessing import LabelEncoder\n",
        "stud = pd.read_csv(\"data2.csv\")\n",
        "stud"
      ]
    },
    {
      "cell_type": "code",
      "execution_count": 2,
      "metadata": {
        "colab": {
          "base_uri": "https://localhost:8080/"
        },
        "id": "CC4Z3wvPydU8",
        "outputId": "75d0f211-34f9-4e8d-e462-3b4462851b01"
      },
      "outputs": [
        {
          "data": {
            "text/plain": [
              "gender                   0\n",
              "math score               1\n",
              "reading score            0\n",
              "writing score            1\n",
              "Placement Score          1\n",
              "placement offer count    0\n",
              "Region                   1\n",
              "dtype: int64"
            ]
          },
          "execution_count": 2,
          "metadata": {},
          "output_type": "execute_result"
        }
      ],
      "source": [
        "stud.isnull().sum()"
      ]
    },
    {
      "cell_type": "code",
      "execution_count": 3,
      "metadata": {},
      "outputs": [
        {
          "data": {
            "text/plain": [
              "77.0"
            ]
          },
          "execution_count": 3,
          "metadata": {},
          "output_type": "execute_result"
        }
      ],
      "source": [
        "(stud['writing score'].mean())\n"
      ]
    },
    {
      "cell_type": "code",
      "execution_count": 4,
      "metadata": {
        "id": "8wDU80lt0kDL"
      },
      "outputs": [
        {
          "data": {
            "text/html": [
              "<div>\n",
              "<style scoped>\n",
              "    .dataframe tbody tr th:only-of-type {\n",
              "        vertical-align: middle;\n",
              "    }\n",
              "\n",
              "    .dataframe tbody tr th {\n",
              "        vertical-align: top;\n",
              "    }\n",
              "\n",
              "    .dataframe thead th {\n",
              "        text-align: right;\n",
              "    }\n",
              "</style>\n",
              "<table border=\"1\" class=\"dataframe\">\n",
              "  <thead>\n",
              "    <tr style=\"text-align: right;\">\n",
              "      <th></th>\n",
              "      <th>gender</th>\n",
              "      <th>math score</th>\n",
              "      <th>reading score</th>\n",
              "      <th>writing score</th>\n",
              "      <th>Placement Score</th>\n",
              "      <th>placement offer count</th>\n",
              "      <th>Region</th>\n",
              "    </tr>\n",
              "  </thead>\n",
              "  <tbody>\n",
              "    <tr>\n",
              "      <th>0</th>\n",
              "      <td>female</td>\n",
              "      <td>72</td>\n",
              "      <td>72</td>\n",
              "      <td>74.0</td>\n",
              "      <td>78.0</td>\n",
              "      <td>1</td>\n",
              "      <td>Pune</td>\n",
              "    </tr>\n",
              "    <tr>\n",
              "      <th>1</th>\n",
              "      <td>female</td>\n",
              "      <td>69</td>\n",
              "      <td>90</td>\n",
              "      <td>88.0</td>\n",
              "      <td>NaN</td>\n",
              "      <td>2</td>\n",
              "      <td>na</td>\n",
              "    </tr>\n",
              "    <tr>\n",
              "      <th>2</th>\n",
              "      <td>female</td>\n",
              "      <td>90</td>\n",
              "      <td>95</td>\n",
              "      <td>93.0</td>\n",
              "      <td>74.0</td>\n",
              "      <td>2</td>\n",
              "      <td>Nashik</td>\n",
              "    </tr>\n",
              "    <tr>\n",
              "      <th>3</th>\n",
              "      <td>male</td>\n",
              "      <td>47</td>\n",
              "      <td>57</td>\n",
              "      <td>77.0</td>\n",
              "      <td>78.0</td>\n",
              "      <td>1</td>\n",
              "      <td>Na</td>\n",
              "    </tr>\n",
              "    <tr>\n",
              "      <th>4</th>\n",
              "      <td>male</td>\n",
              "      <td>na</td>\n",
              "      <td>78</td>\n",
              "      <td>75.0</td>\n",
              "      <td>81.0</td>\n",
              "      <td>3</td>\n",
              "      <td>Pune</td>\n",
              "    </tr>\n",
              "    <tr>\n",
              "      <th>5</th>\n",
              "      <td>female</td>\n",
              "      <td>71</td>\n",
              "      <td>Na</td>\n",
              "      <td>78.0</td>\n",
              "      <td>70.0</td>\n",
              "      <td>4</td>\n",
              "      <td>na</td>\n",
              "    </tr>\n",
              "    <tr>\n",
              "      <th>6</th>\n",
              "      <td>male</td>\n",
              "      <td>12</td>\n",
              "      <td>44</td>\n",
              "      <td>52.0</td>\n",
              "      <td>12.0</td>\n",
              "      <td>2</td>\n",
              "      <td>Nashik</td>\n",
              "    </tr>\n",
              "    <tr>\n",
              "      <th>7</th>\n",
              "      <td>male</td>\n",
              "      <td>NaN</td>\n",
              "      <td>65</td>\n",
              "      <td>67.0</td>\n",
              "      <td>49.0</td>\n",
              "      <td>1</td>\n",
              "      <td>Pune</td>\n",
              "    </tr>\n",
              "    <tr>\n",
              "      <th>8</th>\n",
              "      <td>male</td>\n",
              "      <td>5</td>\n",
              "      <td>77</td>\n",
              "      <td>89.0</td>\n",
              "      <td>55.0</td>\n",
              "      <td>0</td>\n",
              "      <td>NaN</td>\n",
              "    </tr>\n",
              "  </tbody>\n",
              "</table>\n",
              "</div>"
            ],
            "text/plain": [
              "   gender math score reading score  writing score  Placement Score  \\\n",
              "0  female         72            72           74.0             78.0   \n",
              "1  female         69            90           88.0              NaN   \n",
              "2  female         90            95           93.0             74.0   \n",
              "3    male         47            57           77.0             78.0   \n",
              "4    male         na            78           75.0             81.0   \n",
              "5  female         71            Na           78.0             70.0   \n",
              "6    male         12            44           52.0             12.0   \n",
              "7    male        NaN            65           67.0             49.0   \n",
              "8    male          5            77           89.0             55.0   \n",
              "\n",
              "   placement offer count  Region  \n",
              "0                      1    Pune  \n",
              "1                      2      na  \n",
              "2                      2  Nashik  \n",
              "3                      1      Na  \n",
              "4                      3    Pune  \n",
              "5                      4      na  \n",
              "6                      2  Nashik  \n",
              "7                      1    Pune  \n",
              "8                      0     NaN  "
            ]
          },
          "execution_count": 4,
          "metadata": {},
          "output_type": "execute_result"
        }
      ],
      "source": [
        "stud['writing score']= stud['writing score'].fillna(stud['writing score'].mean())\n",
        "stud"
      ]
    },
    {
      "cell_type": "code",
      "execution_count": 5,
      "metadata": {
        "id": "NV-uyJP807vv"
      },
      "outputs": [
        {
          "data": {
            "text/html": [
              "<div>\n",
              "<style scoped>\n",
              "    .dataframe tbody tr th:only-of-type {\n",
              "        vertical-align: middle;\n",
              "    }\n",
              "\n",
              "    .dataframe tbody tr th {\n",
              "        vertical-align: top;\n",
              "    }\n",
              "\n",
              "    .dataframe thead th {\n",
              "        text-align: right;\n",
              "    }\n",
              "</style>\n",
              "<table border=\"1\" class=\"dataframe\">\n",
              "  <thead>\n",
              "    <tr style=\"text-align: right;\">\n",
              "      <th></th>\n",
              "      <th>gender</th>\n",
              "      <th>math score</th>\n",
              "      <th>reading score</th>\n",
              "      <th>writing score</th>\n",
              "      <th>Placement Score</th>\n",
              "      <th>placement offer count</th>\n",
              "      <th>Region</th>\n",
              "    </tr>\n",
              "  </thead>\n",
              "  <tbody>\n",
              "    <tr>\n",
              "      <th>0</th>\n",
              "      <td>female</td>\n",
              "      <td>72</td>\n",
              "      <td>72</td>\n",
              "      <td>74.0</td>\n",
              "      <td>78.000</td>\n",
              "      <td>1</td>\n",
              "      <td>Pune</td>\n",
              "    </tr>\n",
              "    <tr>\n",
              "      <th>1</th>\n",
              "      <td>female</td>\n",
              "      <td>69</td>\n",
              "      <td>90</td>\n",
              "      <td>88.0</td>\n",
              "      <td>62.125</td>\n",
              "      <td>2</td>\n",
              "      <td>na</td>\n",
              "    </tr>\n",
              "    <tr>\n",
              "      <th>2</th>\n",
              "      <td>female</td>\n",
              "      <td>90</td>\n",
              "      <td>95</td>\n",
              "      <td>93.0</td>\n",
              "      <td>74.000</td>\n",
              "      <td>2</td>\n",
              "      <td>Nashik</td>\n",
              "    </tr>\n",
              "    <tr>\n",
              "      <th>3</th>\n",
              "      <td>male</td>\n",
              "      <td>47</td>\n",
              "      <td>57</td>\n",
              "      <td>77.0</td>\n",
              "      <td>78.000</td>\n",
              "      <td>1</td>\n",
              "      <td>Na</td>\n",
              "    </tr>\n",
              "    <tr>\n",
              "      <th>4</th>\n",
              "      <td>male</td>\n",
              "      <td>na</td>\n",
              "      <td>78</td>\n",
              "      <td>75.0</td>\n",
              "      <td>81.000</td>\n",
              "      <td>3</td>\n",
              "      <td>Pune</td>\n",
              "    </tr>\n",
              "    <tr>\n",
              "      <th>5</th>\n",
              "      <td>female</td>\n",
              "      <td>71</td>\n",
              "      <td>Na</td>\n",
              "      <td>78.0</td>\n",
              "      <td>70.000</td>\n",
              "      <td>4</td>\n",
              "      <td>na</td>\n",
              "    </tr>\n",
              "    <tr>\n",
              "      <th>6</th>\n",
              "      <td>male</td>\n",
              "      <td>12</td>\n",
              "      <td>44</td>\n",
              "      <td>52.0</td>\n",
              "      <td>12.000</td>\n",
              "      <td>2</td>\n",
              "      <td>Nashik</td>\n",
              "    </tr>\n",
              "    <tr>\n",
              "      <th>7</th>\n",
              "      <td>male</td>\n",
              "      <td>NaN</td>\n",
              "      <td>65</td>\n",
              "      <td>67.0</td>\n",
              "      <td>49.000</td>\n",
              "      <td>1</td>\n",
              "      <td>Pune</td>\n",
              "    </tr>\n",
              "    <tr>\n",
              "      <th>8</th>\n",
              "      <td>male</td>\n",
              "      <td>5</td>\n",
              "      <td>77</td>\n",
              "      <td>89.0</td>\n",
              "      <td>55.000</td>\n",
              "      <td>0</td>\n",
              "      <td>NaN</td>\n",
              "    </tr>\n",
              "  </tbody>\n",
              "</table>\n",
              "</div>"
            ],
            "text/plain": [
              "   gender math score reading score  writing score  Placement Score  \\\n",
              "0  female         72            72           74.0           78.000   \n",
              "1  female         69            90           88.0           62.125   \n",
              "2  female         90            95           93.0           74.000   \n",
              "3    male         47            57           77.0           78.000   \n",
              "4    male         na            78           75.0           81.000   \n",
              "5  female         71            Na           78.0           70.000   \n",
              "6    male         12            44           52.0           12.000   \n",
              "7    male        NaN            65           67.0           49.000   \n",
              "8    male          5            77           89.0           55.000   \n",
              "\n",
              "   placement offer count  Region  \n",
              "0                      1    Pune  \n",
              "1                      2      na  \n",
              "2                      2  Nashik  \n",
              "3                      1      Na  \n",
              "4                      3    Pune  \n",
              "5                      4      na  \n",
              "6                      2  Nashik  \n",
              "7                      1    Pune  \n",
              "8                      0     NaN  "
            ]
          },
          "execution_count": 5,
          "metadata": {},
          "output_type": "execute_result"
        }
      ],
      "source": [
        "stud['Placement Score']= stud['Placement Score'].fillna(stud['Placement Score'].mean())\n",
        "stud"
      ]
    },
    {
      "cell_type": "code",
      "execution_count": 6,
      "metadata": {
        "id": "aS6xI30v1L5X"
      },
      "outputs": [
        {
          "data": {
            "text/html": [
              "<div>\n",
              "<style scoped>\n",
              "    .dataframe tbody tr th:only-of-type {\n",
              "        vertical-align: middle;\n",
              "    }\n",
              "\n",
              "    .dataframe tbody tr th {\n",
              "        vertical-align: top;\n",
              "    }\n",
              "\n",
              "    .dataframe thead th {\n",
              "        text-align: right;\n",
              "    }\n",
              "</style>\n",
              "<table border=\"1\" class=\"dataframe\">\n",
              "  <thead>\n",
              "    <tr style=\"text-align: right;\">\n",
              "      <th></th>\n",
              "      <th>gender</th>\n",
              "      <th>math score</th>\n",
              "      <th>reading score</th>\n",
              "      <th>writing score</th>\n",
              "      <th>Placement Score</th>\n",
              "      <th>placement offer count</th>\n",
              "      <th>Region</th>\n",
              "    </tr>\n",
              "  </thead>\n",
              "  <tbody>\n",
              "    <tr>\n",
              "      <th>0</th>\n",
              "      <td>female</td>\n",
              "      <td>72</td>\n",
              "      <td>72</td>\n",
              "      <td>74.0</td>\n",
              "      <td>78.000</td>\n",
              "      <td>1</td>\n",
              "      <td>Pune</td>\n",
              "    </tr>\n",
              "    <tr>\n",
              "      <th>1</th>\n",
              "      <td>female</td>\n",
              "      <td>69</td>\n",
              "      <td>90</td>\n",
              "      <td>88.0</td>\n",
              "      <td>62.125</td>\n",
              "      <td>2</td>\n",
              "      <td>nashik</td>\n",
              "    </tr>\n",
              "    <tr>\n",
              "      <th>2</th>\n",
              "      <td>female</td>\n",
              "      <td>90</td>\n",
              "      <td>95</td>\n",
              "      <td>93.0</td>\n",
              "      <td>74.000</td>\n",
              "      <td>2</td>\n",
              "      <td>Nashik</td>\n",
              "    </tr>\n",
              "    <tr>\n",
              "      <th>3</th>\n",
              "      <td>male</td>\n",
              "      <td>47</td>\n",
              "      <td>57</td>\n",
              "      <td>77.0</td>\n",
              "      <td>78.000</td>\n",
              "      <td>1</td>\n",
              "      <td>pune</td>\n",
              "    </tr>\n",
              "    <tr>\n",
              "      <th>4</th>\n",
              "      <td>male</td>\n",
              "      <td>na</td>\n",
              "      <td>78</td>\n",
              "      <td>75.0</td>\n",
              "      <td>81.000</td>\n",
              "      <td>3</td>\n",
              "      <td>Pune</td>\n",
              "    </tr>\n",
              "    <tr>\n",
              "      <th>5</th>\n",
              "      <td>female</td>\n",
              "      <td>71</td>\n",
              "      <td>Na</td>\n",
              "      <td>78.0</td>\n",
              "      <td>70.000</td>\n",
              "      <td>4</td>\n",
              "      <td>nashik</td>\n",
              "    </tr>\n",
              "    <tr>\n",
              "      <th>6</th>\n",
              "      <td>male</td>\n",
              "      <td>12</td>\n",
              "      <td>44</td>\n",
              "      <td>52.0</td>\n",
              "      <td>12.000</td>\n",
              "      <td>2</td>\n",
              "      <td>Nashik</td>\n",
              "    </tr>\n",
              "    <tr>\n",
              "      <th>7</th>\n",
              "      <td>male</td>\n",
              "      <td>NaN</td>\n",
              "      <td>65</td>\n",
              "      <td>67.0</td>\n",
              "      <td>49.000</td>\n",
              "      <td>1</td>\n",
              "      <td>Pune</td>\n",
              "    </tr>\n",
              "    <tr>\n",
              "      <th>8</th>\n",
              "      <td>male</td>\n",
              "      <td>5</td>\n",
              "      <td>77</td>\n",
              "      <td>89.0</td>\n",
              "      <td>55.000</td>\n",
              "      <td>0</td>\n",
              "      <td>pune</td>\n",
              "    </tr>\n",
              "  </tbody>\n",
              "</table>\n",
              "</div>"
            ],
            "text/plain": [
              "   gender math score reading score  writing score  Placement Score  \\\n",
              "0  female         72            72           74.0           78.000   \n",
              "1  female         69            90           88.0           62.125   \n",
              "2  female         90            95           93.0           74.000   \n",
              "3    male         47            57           77.0           78.000   \n",
              "4    male         na            78           75.0           81.000   \n",
              "5  female         71            Na           78.0           70.000   \n",
              "6    male         12            44           52.0           12.000   \n",
              "7    male        NaN            65           67.0           49.000   \n",
              "8    male          5            77           89.0           55.000   \n",
              "\n",
              "   placement offer count  Region  \n",
              "0                      1    Pune  \n",
              "1                      2  nashik  \n",
              "2                      2  Nashik  \n",
              "3                      1    pune  \n",
              "4                      3    Pune  \n",
              "5                      4  nashik  \n",
              "6                      2  Nashik  \n",
              "7                      1    Pune  \n",
              "8                      0    pune  "
            ]
          },
          "execution_count": 6,
          "metadata": {},
          "output_type": "execute_result"
        }
      ],
      "source": [
        "stud['Region']=stud['Region'].replace('na','nashik')\n",
        "stud['Region']=stud['Region'].replace('Na','pune')\n",
        "stud['Region']=stud['Region'].replace(np.nan,'pune')\n",
        "stud"
      ]
    },
    {
      "cell_type": "code",
      "execution_count": 7,
      "metadata": {
        "id": "yg7PX0fA2Zx3"
      },
      "outputs": [],
      "source": [
        "le =LabelEncoder()\n",
        "stud['gender'] = le.fit_transform(stud['gender'])"
      ]
    },
    {
      "cell_type": "code",
      "execution_count": 8,
      "metadata": {
        "colab": {
          "base_uri": "https://localhost:8080/",
          "height": 332
        },
        "id": "DGOyeD6h3DCn",
        "outputId": "fc3e8a64-26ea-45d5-ce18-d44ab0c22bf4"
      },
      "outputs": [
        {
          "data": {
            "text/html": [
              "<div>\n",
              "<style scoped>\n",
              "    .dataframe tbody tr th:only-of-type {\n",
              "        vertical-align: middle;\n",
              "    }\n",
              "\n",
              "    .dataframe tbody tr th {\n",
              "        vertical-align: top;\n",
              "    }\n",
              "\n",
              "    .dataframe thead th {\n",
              "        text-align: right;\n",
              "    }\n",
              "</style>\n",
              "<table border=\"1\" class=\"dataframe\">\n",
              "  <thead>\n",
              "    <tr style=\"text-align: right;\">\n",
              "      <th></th>\n",
              "      <th>gender</th>\n",
              "      <th>math score</th>\n",
              "      <th>reading score</th>\n",
              "      <th>writing score</th>\n",
              "      <th>Placement Score</th>\n",
              "      <th>placement offer count</th>\n",
              "      <th>Region</th>\n",
              "    </tr>\n",
              "  </thead>\n",
              "  <tbody>\n",
              "    <tr>\n",
              "      <th>0</th>\n",
              "      <td>0</td>\n",
              "      <td>72</td>\n",
              "      <td>72</td>\n",
              "      <td>74.0</td>\n",
              "      <td>78.000</td>\n",
              "      <td>1</td>\n",
              "      <td>Pune</td>\n",
              "    </tr>\n",
              "    <tr>\n",
              "      <th>1</th>\n",
              "      <td>0</td>\n",
              "      <td>69</td>\n",
              "      <td>90</td>\n",
              "      <td>88.0</td>\n",
              "      <td>62.125</td>\n",
              "      <td>2</td>\n",
              "      <td>nashik</td>\n",
              "    </tr>\n",
              "    <tr>\n",
              "      <th>2</th>\n",
              "      <td>0</td>\n",
              "      <td>90</td>\n",
              "      <td>95</td>\n",
              "      <td>93.0</td>\n",
              "      <td>74.000</td>\n",
              "      <td>2</td>\n",
              "      <td>Nashik</td>\n",
              "    </tr>\n",
              "    <tr>\n",
              "      <th>3</th>\n",
              "      <td>1</td>\n",
              "      <td>47</td>\n",
              "      <td>57</td>\n",
              "      <td>77.0</td>\n",
              "      <td>78.000</td>\n",
              "      <td>1</td>\n",
              "      <td>pune</td>\n",
              "    </tr>\n",
              "    <tr>\n",
              "      <th>4</th>\n",
              "      <td>1</td>\n",
              "      <td>na</td>\n",
              "      <td>78</td>\n",
              "      <td>75.0</td>\n",
              "      <td>81.000</td>\n",
              "      <td>3</td>\n",
              "      <td>Pune</td>\n",
              "    </tr>\n",
              "    <tr>\n",
              "      <th>5</th>\n",
              "      <td>0</td>\n",
              "      <td>71</td>\n",
              "      <td>Na</td>\n",
              "      <td>78.0</td>\n",
              "      <td>70.000</td>\n",
              "      <td>4</td>\n",
              "      <td>nashik</td>\n",
              "    </tr>\n",
              "    <tr>\n",
              "      <th>6</th>\n",
              "      <td>1</td>\n",
              "      <td>12</td>\n",
              "      <td>44</td>\n",
              "      <td>52.0</td>\n",
              "      <td>12.000</td>\n",
              "      <td>2</td>\n",
              "      <td>Nashik</td>\n",
              "    </tr>\n",
              "    <tr>\n",
              "      <th>7</th>\n",
              "      <td>1</td>\n",
              "      <td>NaN</td>\n",
              "      <td>65</td>\n",
              "      <td>67.0</td>\n",
              "      <td>49.000</td>\n",
              "      <td>1</td>\n",
              "      <td>Pune</td>\n",
              "    </tr>\n",
              "    <tr>\n",
              "      <th>8</th>\n",
              "      <td>1</td>\n",
              "      <td>5</td>\n",
              "      <td>77</td>\n",
              "      <td>89.0</td>\n",
              "      <td>55.000</td>\n",
              "      <td>0</td>\n",
              "      <td>pune</td>\n",
              "    </tr>\n",
              "  </tbody>\n",
              "</table>\n",
              "</div>"
            ],
            "text/plain": [
              "   gender math score reading score  writing score  Placement Score  \\\n",
              "0       0         72            72           74.0           78.000   \n",
              "1       0         69            90           88.0           62.125   \n",
              "2       0         90            95           93.0           74.000   \n",
              "3       1         47            57           77.0           78.000   \n",
              "4       1         na            78           75.0           81.000   \n",
              "5       0         71            Na           78.0           70.000   \n",
              "6       1         12            44           52.0           12.000   \n",
              "7       1        NaN            65           67.0           49.000   \n",
              "8       1          5            77           89.0           55.000   \n",
              "\n",
              "   placement offer count  Region  \n",
              "0                      1    Pune  \n",
              "1                      2  nashik  \n",
              "2                      2  Nashik  \n",
              "3                      1    pune  \n",
              "4                      3    Pune  \n",
              "5                      4  nashik  \n",
              "6                      2  Nashik  \n",
              "7                      1    Pune  \n",
              "8                      0    pune  "
            ]
          },
          "execution_count": 8,
          "metadata": {},
          "output_type": "execute_result"
        }
      ],
      "source": [
        "newstud = stud\n",
        "newstud"
      ]
    },
    {
      "cell_type": "markdown",
      "metadata": {
        "id": "_7Qa5_If4QYf"
      },
      "source": [
        "# **OUTLIERS**"
      ]
    },
    {
      "cell_type": "code",
      "execution_count": 9,
      "metadata": {
        "id": "uokSVxWX4s7H"
      },
      "outputs": [],
      "source": [
        "import seaborn as sns\n",
        "import matplotlib.pyplot as plt\n"
      ]
    },
    {
      "cell_type": "code",
      "execution_count": 10,
      "metadata": {
        "id": "nqVL8qpZ4ZM_"
      },
      "outputs": [],
      "source": [
        "df = pd.read_csv('data22.csv')"
      ]
    },
    {
      "cell_type": "code",
      "execution_count": 11,
      "metadata": {
        "colab": {
          "base_uri": "https://localhost:8080/"
        },
        "id": "isXYkeFE4sE4",
        "outputId": "bb93f822-9fd4-4a2d-b7d1-7fab84384694"
      },
      "outputs": [
        {
          "data": {
            "text/plain": [
              "math score               0\n",
              "reading score            0\n",
              "writing score            0\n",
              "placement score          0\n",
              "placement offer count    0\n",
              "club join year           0\n",
              "dtype: int64"
            ]
          },
          "execution_count": 11,
          "metadata": {},
          "output_type": "execute_result"
        }
      ],
      "source": [
        "df.isnull().sum()"
      ]
    },
    {
      "cell_type": "code",
      "execution_count": 12,
      "metadata": {
        "id": "_BuK-cqG5hh6"
      },
      "outputs": [],
      "source": [
        "columns =['math score' ,'reading score','writing score','placement score']"
      ]
    },
    {
      "cell_type": "code",
      "execution_count": 13,
      "metadata": {
        "colab": {
          "base_uri": "https://localhost:8080/",
          "height": 282
        },
        "id": "WWiPb3pp56vU",
        "outputId": "9615c657-7fce-4066-931a-f5b55b7cbdbe"
      },
      "outputs": [
        {
          "data": {
            "text/plain": [
              "<Axes: >"
            ]
          },
          "execution_count": 13,
          "metadata": {},
          "output_type": "execute_result"
        },
        {
          "data": {
            "image/png": "[encoded data removed]",
            "text/plain": [
              "<Figure size 640x480 with 1 Axes>"
            ]
          },
          "metadata": {},
          "output_type": "display_data"
        }
      ],
      "source": [
        "df.boxplot(columns)"
      ]
    },
    {
      "cell_type": "code",
      "execution_count": 14,
      "metadata": {
        "colab": {
          "base_uri": "https://localhost:8080/"
        },
        "id": "G1QYFS1W5-GZ",
        "outputId": "b1dc3331-389b-4ab3-d791-da7d2b049a1c"
      },
      "outputs": [
        {
          "name": "stdout",
          "output_type": "stream",
          "text": [
            "(array([10, 21, 25, 28], dtype=int64),)\n",
            "(array([ 2, 14], dtype=int64),)\n",
            "(array([10, 17], dtype=int64),)\n"
          ]
        }
      ],
      "source": [
        "print(np.where(df['math score']>90))\n",
        "print(np.where(df['reading score']<25))\n",
        "print(np.where(df['writing score']<30))"
      ]
    },
    {
      "cell_type": "code",
      "execution_count": 15,
      "metadata": {
        "colab": {
          "base_uri": "https://localhost:8080/",
          "height": 714
        },
        "id": "axhDmkd-7X9C",
        "outputId": "dc38d3ca-e81f-4647-bb41-4ea3660b57b1"
      },
      "outputs": [
        {
          "data": {
            "image/png": "[encoded data removed]",
            "text/plain": [
              "<Figure size 640x480 with 1 Axes>"
            ]
          },
          "metadata": {},
          "output_type": "display_data"
        }
      ],
      "source": [
        "fig ,ax = plt.subplots()\n",
        "ax.scatter(df['placement score'], df['placement offer count'])\n",
        "ax.set_xlabel('placement score')\n",
        "ax.set_ylabel('placement offer count')\n",
        "\n",
        "plt.show()"
      ]
    },
    {
      "cell_type": "code",
      "execution_count": 16,
      "metadata": {
        "colab": {
          "base_uri": "https://localhost:8080/"
        },
        "id": "GiKJTdB59trh",
        "outputId": "c2929229-50d4-45e1-84b7-24aa1d332f6e"
      },
      "outputs": [
        {
          "data": {
            "text/plain": [
              "(array([ 0, 12, 16, 17, 19], dtype=int64),)"
            ]
          },
          "execution_count": 16,
          "metadata": {},
          "output_type": "execute_result"
        }
      ],
      "source": [
        "from scipy import stats\n",
        "z = np.abs(stats.zscore(df['math score']))\n",
        "threshold = 0.20\n",
        "sample_outliers = np.where(z <threshold)\n",
        "sample_outliers"
      ]
    },
    {
      "cell_type": "code",
      "execution_count": 17,
      "metadata": {},
      "outputs": [
        {
          "data": {
            "text/plain": [
              "[1,\n",
              " 16,\n",
              " 45,\n",
              " 60,\n",
              " 60,\n",
              " 61,\n",
              " 62,\n",
              " 62,\n",
              " 62,\n",
              " 65,\n",
              " 65,\n",
              " 65,\n",
              " 67,\n",
              " 67,\n",
              " 68,\n",
              " 68,\n",
              " 69,\n",
              " 70,\n",
              " 71,\n",
              " 72,\n",
              " 73,\n",
              " 74,\n",
              " 77,\n",
              " 77,\n",
              " 77,\n",
              " 78,\n",
              " 79,\n",
              " 80,\n",
              " 120]"
            ]
          },
          "execution_count": 17,
          "metadata": {},
          "output_type": "execute_result"
        }
      ],
      "source": [
        "sorted_rscore= sorted(df['reading score'])\n",
        "sorted_rscore"
      ]
    },
    {
      "cell_type": "code",
      "execution_count": 18,
      "metadata": {},
      "outputs": [],
      "source": [
        "q1 = np.percentile(sorted_rscore, 25)"
      ]
    },
    {
      "cell_type": "code",
      "execution_count": 19,
      "metadata": {},
      "outputs": [
        {
          "name": "stdout",
          "output_type": "stream",
          "text": [
            "62.0 74.0\n"
          ]
        }
      ],
      "source": [
        "q3 = np.percentile(sorted_rscore, 75)\n",
        "print(q1,q3)"
      ]
    },
    {
      "cell_type": "code",
      "execution_count": 20,
      "metadata": {},
      "outputs": [],
      "source": [
        "IQR = q3-q1"
      ]
    },
    {
      "cell_type": "code",
      "execution_count": 21,
      "metadata": {},
      "outputs": [
        {
          "name": "stdout",
          "output_type": "stream",
          "text": [
            "44.0 92.0\n"
          ]
        }
      ],
      "source": [
        "lwr_bound = q1-(1.5*IQR)\n",
        "upr_bound = q3+(1.5*IQR)\n",
        "print(lwr_bound, upr_bound)"
      ]
    },
    {
      "cell_type": "code",
      "execution_count": 22,
      "metadata": {},
      "outputs": [
        {
          "name": "stdout",
          "output_type": "stream",
          "text": [
            "[1, 16, 120]\n"
          ]
        }
      ],
      "source": [
        "r_outliers = []\n",
        "for i in sorted_rscore:\n",
        "  if (i<lwr_bound or i>upr_bound):\n",
        "    r_outliers.append(i)\n",
        "print(r_outliers)"
      ]
    }
  ],
  "metadata": {
    "colab": {
      "provenance": []
    },
    "kernelspec": {
      "display_name": "Python 3",
      "name": "python3"
    },
    "language_info": {
      "codemirror_mode": {
        "name": "ipython",
        "version": 3
      },
      "file_extension": ".py",
      "mimetype": "text/x-python",
      "name": "python",
      "nbconvert_exporter": "python",
      "pygments_lexer": "ipython3",
      "version": "3.12.2"
    }
  },
  "nbformat": 4,
  "nbformat_minor": 0
}
